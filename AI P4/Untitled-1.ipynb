{
 "cells": [
  {
   "cell_type": "code",
   "execution_count": 2,
   "metadata": {},
   "outputs": [],
   "source": [
    "import pandas as pd"
   ]
  },
  {
   "cell_type": "code",
   "execution_count": 21,
   "metadata": {},
   "outputs": [
    {
     "data": {
      "text/html": [
       "<div>\n",
       "<style scoped>\n",
       "    .dataframe tbody tr th:only-of-type {\n",
       "        vertical-align: middle;\n",
       "    }\n",
       "\n",
       "    .dataframe tbody tr th {\n",
       "        vertical-align: top;\n",
       "    }\n",
       "\n",
       "    .dataframe thead th {\n",
       "        text-align: right;\n",
       "    }\n",
       "</style>\n",
       "<table border=\"1\" class=\"dataframe\">\n",
       "  <thead>\n",
       "    <tr style=\"text-align: right;\">\n",
       "      <th></th>\n",
       "      <th>Pregnancies</th>\n",
       "      <th>Glucose</th>\n",
       "      <th>BloodPressure</th>\n",
       "      <th>SkinThickness</th>\n",
       "      <th>Insulin</th>\n",
       "      <th>BMI</th>\n",
       "      <th>DiabetesPedigreeFunction</th>\n",
       "      <th>Age</th>\n",
       "      <th>Outcome</th>\n",
       "    </tr>\n",
       "  </thead>\n",
       "  <tbody>\n",
       "    <tr>\n",
       "      <th>0</th>\n",
       "      <td>6.0</td>\n",
       "      <td>148.0</td>\n",
       "      <td>72.0</td>\n",
       "      <td>35.0</td>\n",
       "      <td>0.0</td>\n",
       "      <td>33.6</td>\n",
       "      <td>0.627</td>\n",
       "      <td>50.0</td>\n",
       "      <td>1</td>\n",
       "    </tr>\n",
       "    <tr>\n",
       "      <th>1</th>\n",
       "      <td>1.0</td>\n",
       "      <td>85.0</td>\n",
       "      <td>66.0</td>\n",
       "      <td>29.0</td>\n",
       "      <td>0.0</td>\n",
       "      <td>26.6</td>\n",
       "      <td>0.351</td>\n",
       "      <td>31.0</td>\n",
       "      <td>0</td>\n",
       "    </tr>\n",
       "    <tr>\n",
       "      <th>2</th>\n",
       "      <td>NaN</td>\n",
       "      <td>183.0</td>\n",
       "      <td>64.0</td>\n",
       "      <td>0.0</td>\n",
       "      <td>0.0</td>\n",
       "      <td>23.3</td>\n",
       "      <td>0.672</td>\n",
       "      <td>32.0</td>\n",
       "      <td>1</td>\n",
       "    </tr>\n",
       "    <tr>\n",
       "      <th>3</th>\n",
       "      <td>1.0</td>\n",
       "      <td>89.0</td>\n",
       "      <td>66.0</td>\n",
       "      <td>23.0</td>\n",
       "      <td>94.0</td>\n",
       "      <td>28.1</td>\n",
       "      <td>0.167</td>\n",
       "      <td>21.0</td>\n",
       "      <td>0</td>\n",
       "    </tr>\n",
       "    <tr>\n",
       "      <th>4</th>\n",
       "      <td>NaN</td>\n",
       "      <td>137.0</td>\n",
       "      <td>40.0</td>\n",
       "      <td>35.0</td>\n",
       "      <td>168.0</td>\n",
       "      <td>NaN</td>\n",
       "      <td>NaN</td>\n",
       "      <td>33.0</td>\n",
       "      <td>1</td>\n",
       "    </tr>\n",
       "  </tbody>\n",
       "</table>\n",
       "</div>"
      ],
      "text/plain": [
       "   Pregnancies  Glucose  BloodPressure  SkinThickness  Insulin   BMI  \\\n",
       "0          6.0    148.0           72.0           35.0      0.0  33.6   \n",
       "1          1.0     85.0           66.0           29.0      0.0  26.6   \n",
       "2          NaN    183.0           64.0            0.0      0.0  23.3   \n",
       "3          1.0     89.0           66.0           23.0     94.0  28.1   \n",
       "4          NaN    137.0           40.0           35.0    168.0   NaN   \n",
       "\n",
       "   DiabetesPedigreeFunction   Age  Outcome  \n",
       "0                     0.627  50.0        1  \n",
       "1                     0.351  31.0        0  \n",
       "2                     0.672  32.0        1  \n",
       "3                     0.167  21.0        0  \n",
       "4                       NaN  33.0        1  "
      ]
     },
     "execution_count": 21,
     "metadata": {},
     "output_type": "execute_result"
    }
   ],
   "source": [
    "data = pd.read_csv(\"diabetes.csv\")\n",
    "data.head()"
   ]
  },
  {
   "cell_type": "code",
   "execution_count": 7,
   "metadata": {},
   "outputs": [
    {
     "name": "stdout",
     "output_type": "stream",
     "text": [
      "<class 'pandas.core.frame.DataFrame'>\n",
      "RangeIndex: 768 entries, 0 to 767\n",
      "Data columns (total 9 columns):\n",
      " #   Column                    Non-Null Count  Dtype  \n",
      "---  ------                    --------------  -----  \n",
      " 0   Pregnancies               635 non-null    float64\n",
      " 1   Glucose                   654 non-null    float64\n",
      " 2   BloodPressure             680 non-null    float64\n",
      " 3   SkinThickness             624 non-null    float64\n",
      " 4   Insulin                   680 non-null    float64\n",
      " 5   BMI                       684 non-null    float64\n",
      " 6   DiabetesPedigreeFunction  590 non-null    float64\n",
      " 7   Age                       655 non-null    float64\n",
      " 8   Outcome                   768 non-null    int64  \n",
      "dtypes: float64(8), int64(1)\n",
      "memory usage: 54.1 KB\n"
     ]
    }
   ],
   "source": [
    "data.info()"
   ]
  },
  {
   "cell_type": "code",
   "execution_count": 8,
   "metadata": {},
   "outputs": [
    {
     "data": {
      "text/html": [
       "<div>\n",
       "<style scoped>\n",
       "    .dataframe tbody tr th:only-of-type {\n",
       "        vertical-align: middle;\n",
       "    }\n",
       "\n",
       "    .dataframe tbody tr th {\n",
       "        vertical-align: top;\n",
       "    }\n",
       "\n",
       "    .dataframe thead th {\n",
       "        text-align: right;\n",
       "    }\n",
       "</style>\n",
       "<table border=\"1\" class=\"dataframe\">\n",
       "  <thead>\n",
       "    <tr style=\"text-align: right;\">\n",
       "      <th></th>\n",
       "      <th>Pregnancies</th>\n",
       "      <th>Glucose</th>\n",
       "      <th>BloodPressure</th>\n",
       "      <th>SkinThickness</th>\n",
       "      <th>Insulin</th>\n",
       "      <th>BMI</th>\n",
       "      <th>DiabetesPedigreeFunction</th>\n",
       "      <th>Age</th>\n",
       "      <th>Outcome</th>\n",
       "    </tr>\n",
       "  </thead>\n",
       "  <tbody>\n",
       "    <tr>\n",
       "      <th>count</th>\n",
       "      <td>635.000000</td>\n",
       "      <td>654.000000</td>\n",
       "      <td>680.000000</td>\n",
       "      <td>624.000000</td>\n",
       "      <td>680.000000</td>\n",
       "      <td>684.000000</td>\n",
       "      <td>590.000000</td>\n",
       "      <td>655.000000</td>\n",
       "      <td>768.000000</td>\n",
       "    </tr>\n",
       "    <tr>\n",
       "      <th>mean</th>\n",
       "      <td>3.700787</td>\n",
       "      <td>113.422018</td>\n",
       "      <td>68.786765</td>\n",
       "      <td>20.386218</td>\n",
       "      <td>80.123529</td>\n",
       "      <td>32.083626</td>\n",
       "      <td>0.466676</td>\n",
       "      <td>33.157252</td>\n",
       "      <td>0.348958</td>\n",
       "    </tr>\n",
       "    <tr>\n",
       "      <th>std</th>\n",
       "      <td>3.518126</td>\n",
       "      <td>202.816831</td>\n",
       "      <td>19.724841</td>\n",
       "      <td>15.987049</td>\n",
       "      <td>115.681140</td>\n",
       "      <td>7.800741</td>\n",
       "      <td>0.322408</td>\n",
       "      <td>13.829831</td>\n",
       "      <td>0.476951</td>\n",
       "    </tr>\n",
       "    <tr>\n",
       "      <th>min</th>\n",
       "      <td>-22.000000</td>\n",
       "      <td>-5000.000000</td>\n",
       "      <td>-2.000000</td>\n",
       "      <td>0.000000</td>\n",
       "      <td>0.000000</td>\n",
       "      <td>0.000000</td>\n",
       "      <td>0.078000</td>\n",
       "      <td>-150.000000</td>\n",
       "      <td>0.000000</td>\n",
       "    </tr>\n",
       "    <tr>\n",
       "      <th>25%</th>\n",
       "      <td>1.000000</td>\n",
       "      <td>99.000000</td>\n",
       "      <td>62.000000</td>\n",
       "      <td>0.000000</td>\n",
       "      <td>0.000000</td>\n",
       "      <td>27.375000</td>\n",
       "      <td>0.243250</td>\n",
       "      <td>24.000000</td>\n",
       "      <td>0.000000</td>\n",
       "    </tr>\n",
       "    <tr>\n",
       "      <th>50%</th>\n",
       "      <td>3.000000</td>\n",
       "      <td>117.000000</td>\n",
       "      <td>72.000000</td>\n",
       "      <td>23.000000</td>\n",
       "      <td>34.000000</td>\n",
       "      <td>32.300000</td>\n",
       "      <td>0.368000</td>\n",
       "      <td>29.000000</td>\n",
       "      <td>0.000000</td>\n",
       "    </tr>\n",
       "    <tr>\n",
       "      <th>75%</th>\n",
       "      <td>6.000000</td>\n",
       "      <td>140.750000</td>\n",
       "      <td>80.000000</td>\n",
       "      <td>32.000000</td>\n",
       "      <td>129.250000</td>\n",
       "      <td>36.600000</td>\n",
       "      <td>0.611500</td>\n",
       "      <td>41.000000</td>\n",
       "      <td>1.000000</td>\n",
       "    </tr>\n",
       "    <tr>\n",
       "      <th>max</th>\n",
       "      <td>17.000000</td>\n",
       "      <td>199.000000</td>\n",
       "      <td>122.000000</td>\n",
       "      <td>99.000000</td>\n",
       "      <td>846.000000</td>\n",
       "      <td>67.100000</td>\n",
       "      <td>2.329000</td>\n",
       "      <td>81.000000</td>\n",
       "      <td>1.000000</td>\n",
       "    </tr>\n",
       "  </tbody>\n",
       "</table>\n",
       "</div>"
      ],
      "text/plain": [
       "       Pregnancies      Glucose  BloodPressure  SkinThickness     Insulin  \\\n",
       "count   635.000000   654.000000     680.000000     624.000000  680.000000   \n",
       "mean      3.700787   113.422018      68.786765      20.386218   80.123529   \n",
       "std       3.518126   202.816831      19.724841      15.987049  115.681140   \n",
       "min     -22.000000 -5000.000000      -2.000000       0.000000    0.000000   \n",
       "25%       1.000000    99.000000      62.000000       0.000000    0.000000   \n",
       "50%       3.000000   117.000000      72.000000      23.000000   34.000000   \n",
       "75%       6.000000   140.750000      80.000000      32.000000  129.250000   \n",
       "max      17.000000   199.000000     122.000000      99.000000  846.000000   \n",
       "\n",
       "              BMI  DiabetesPedigreeFunction         Age     Outcome  \n",
       "count  684.000000                590.000000  655.000000  768.000000  \n",
       "mean    32.083626                  0.466676   33.157252    0.348958  \n",
       "std      7.800741                  0.322408   13.829831    0.476951  \n",
       "min      0.000000                  0.078000 -150.000000    0.000000  \n",
       "25%     27.375000                  0.243250   24.000000    0.000000  \n",
       "50%     32.300000                  0.368000   29.000000    0.000000  \n",
       "75%     36.600000                  0.611500   41.000000    1.000000  \n",
       "max     67.100000                  2.329000   81.000000    1.000000  "
      ]
     },
     "execution_count": 8,
     "metadata": {},
     "output_type": "execute_result"
    }
   ],
   "source": [
    "data.describe()"
   ]
  },
  {
   "cell_type": "code",
   "execution_count": 11,
   "metadata": {},
   "outputs": [
    {
     "data": {
      "text/plain": [
       "Pregnancies                 133\n",
       "Glucose                     114\n",
       "BloodPressure                88\n",
       "SkinThickness               144\n",
       "Insulin                      88\n",
       "BMI                          84\n",
       "DiabetesPedigreeFunction    178\n",
       "Age                         113\n",
       "Outcome                       0\n",
       "dtype: int64"
      ]
     },
     "execution_count": 11,
     "metadata": {},
     "output_type": "execute_result"
    }
   ],
   "source": [
    "data.isnull().sum(axis = 0)"
   ]
  },
  {
   "cell_type": "code",
   "execution_count": 14,
   "metadata": {},
   "outputs": [
    {
     "data": {
      "text/plain": [
       "Pregnancies                 0.173177\n",
       "Glucose                     0.148438\n",
       "BloodPressure               0.114583\n",
       "SkinThickness               0.187500\n",
       "Insulin                     0.114583\n",
       "BMI                         0.109375\n",
       "DiabetesPedigreeFunction    0.231771\n",
       "Age                         0.147135\n",
       "Outcome                     0.000000\n",
       "dtype: float64"
      ]
     },
     "execution_count": 14,
     "metadata": {},
     "output_type": "execute_result"
    }
   ],
   "source": [
    "data.isnull().sum(axis = 0)/len(data)"
   ]
  },
  {
   "cell_type": "code",
   "execution_count": 20,
   "metadata": {},
   "outputs": [
    {
     "data": {
      "text/html": [
       "<style  type=\"text/css\" >\n",
       "#T_3bc55_row0_col0,#T_3bc55_row1_col1,#T_3bc55_row2_col2,#T_3bc55_row3_col3,#T_3bc55_row4_col4,#T_3bc55_row5_col5,#T_3bc55_row6_col6,#T_3bc55_row7_col7,#T_3bc55_row8_col8{\n",
       "            background-color:  #b40426;\n",
       "            color:  #f1f1f1;\n",
       "        }#T_3bc55_row0_col1,#T_3bc55_row0_col8,#T_3bc55_row2_col6{\n",
       "            background-color:  #6b8df0;\n",
       "            color:  #000000;\n",
       "        }#T_3bc55_row0_col2{\n",
       "            background-color:  #5f7fe8;\n",
       "            color:  #000000;\n",
       "        }#T_3bc55_row0_col3,#T_3bc55_row4_col0{\n",
       "            background-color:  #4257c9;\n",
       "            color:  #f1f1f1;\n",
       "        }#T_3bc55_row0_col4,#T_3bc55_row1_col6,#T_3bc55_row2_col8,#T_3bc55_row3_col0,#T_3bc55_row3_col7,#T_3bc55_row6_col1,#T_3bc55_row6_col2,#T_3bc55_row7_col3,#T_3bc55_row7_col5,#T_3bc55_row8_col2{\n",
       "            background-color:  #3b4cc0;\n",
       "            color:  #f1f1f1;\n",
       "        }#T_3bc55_row0_col5,#T_3bc55_row1_col0{\n",
       "            background-color:  #6282ea;\n",
       "            color:  #000000;\n",
       "        }#T_3bc55_row0_col6,#T_3bc55_row4_col7{\n",
       "            background-color:  #5875e1;\n",
       "            color:  #000000;\n",
       "        }#T_3bc55_row0_col7,#T_3bc55_row5_col3{\n",
       "            background-color:  #d5dbe5;\n",
       "            color:  #000000;\n",
       "        }#T_3bc55_row1_col2{\n",
       "            background-color:  #3c4ec2;\n",
       "            color:  #f1f1f1;\n",
       "        }#T_3bc55_row1_col3{\n",
       "            background-color:  #799cf8;\n",
       "            color:  #000000;\n",
       "        }#T_3bc55_row1_col4{\n",
       "            background-color:  #4961d2;\n",
       "            color:  #f1f1f1;\n",
       "        }#T_3bc55_row1_col5{\n",
       "            background-color:  #5b7ae5;\n",
       "            color:  #000000;\n",
       "        }#T_3bc55_row1_col7{\n",
       "            background-color:  #9abbff;\n",
       "            color:  #000000;\n",
       "        }#T_3bc55_row1_col8,#T_3bc55_row5_col7{\n",
       "            background-color:  #4e68d8;\n",
       "            color:  #000000;\n",
       "        }#T_3bc55_row2_col0{\n",
       "            background-color:  #86a9fc;\n",
       "            color:  #000000;\n",
       "        }#T_3bc55_row2_col1,#T_3bc55_row6_col7{\n",
       "            background-color:  #6c8ff1;\n",
       "            color:  #000000;\n",
       "        }#T_3bc55_row2_col3,#T_3bc55_row4_col6{\n",
       "            background-color:  #9fbfff;\n",
       "            color:  #000000;\n",
       "        }#T_3bc55_row2_col4{\n",
       "            background-color:  #688aef;\n",
       "            color:  #000000;\n",
       "        }#T_3bc55_row2_col5{\n",
       "            background-color:  #96b7ff;\n",
       "            color:  #000000;\n",
       "        }#T_3bc55_row2_col7{\n",
       "            background-color:  #b3cdfb;\n",
       "            color:  #000000;\n",
       "        }#T_3bc55_row3_col1{\n",
       "            background-color:  #7a9df8;\n",
       "            color:  #000000;\n",
       "        }#T_3bc55_row3_col2{\n",
       "            background-color:  #7396f5;\n",
       "            color:  #000000;\n",
       "        }#T_3bc55_row3_col4,#T_3bc55_row7_col0{\n",
       "            background-color:  #d1dae9;\n",
       "            color:  #000000;\n",
       "        }#T_3bc55_row3_col5{\n",
       "            background-color:  #cbd8ee;\n",
       "            color:  #000000;\n",
       "        }#T_3bc55_row3_col6,#T_3bc55_row8_col0{\n",
       "            background-color:  #93b5fe;\n",
       "            color:  #000000;\n",
       "        }#T_3bc55_row3_col8,#T_3bc55_row4_col2{\n",
       "            background-color:  #485fd1;\n",
       "            color:  #f1f1f1;\n",
       "        }#T_3bc55_row4_col1{\n",
       "            background-color:  #5977e3;\n",
       "            color:  #000000;\n",
       "        }#T_3bc55_row4_col3{\n",
       "            background-color:  #d8dce2;\n",
       "            color:  #000000;\n",
       "        }#T_3bc55_row4_col5{\n",
       "            background-color:  #84a7fc;\n",
       "            color:  #000000;\n",
       "        }#T_3bc55_row4_col8{\n",
       "            background-color:  #506bda;\n",
       "            color:  #000000;\n",
       "        }#T_3bc55_row5_col0,#T_3bc55_row7_col6{\n",
       "            background-color:  #6e90f2;\n",
       "            color:  #000000;\n",
       "        }#T_3bc55_row5_col1{\n",
       "            background-color:  #7093f3;\n",
       "            color:  #000000;\n",
       "        }#T_3bc55_row5_col2,#T_3bc55_row6_col5{\n",
       "            background-color:  #7da0f9;\n",
       "            color:  #000000;\n",
       "        }#T_3bc55_row5_col4{\n",
       "            background-color:  #88abfd;\n",
       "            color:  #000000;\n",
       "        }#T_3bc55_row5_col6{\n",
       "            background-color:  #90b2fe;\n",
       "            color:  #000000;\n",
       "        }#T_3bc55_row5_col8,#T_3bc55_row7_col2{\n",
       "            background-color:  #8db0fe;\n",
       "            color:  #000000;\n",
       "        }#T_3bc55_row6_col0{\n",
       "            background-color:  #4f69d9;\n",
       "            color:  #000000;\n",
       "        }#T_3bc55_row6_col3,#T_3bc55_row6_col4{\n",
       "            background-color:  #92b4fe;\n",
       "            color:  #000000;\n",
       "        }#T_3bc55_row6_col8{\n",
       "            background-color:  #6a8bef;\n",
       "            color:  #000000;\n",
       "        }#T_3bc55_row7_col1{\n",
       "            background-color:  #9bbcff;\n",
       "            color:  #000000;\n",
       "        }#T_3bc55_row7_col4{\n",
       "            background-color:  #4a63d3;\n",
       "            color:  #f1f1f1;\n",
       "        }#T_3bc55_row7_col8{\n",
       "            background-color:  #5d7ce6;\n",
       "            color:  #000000;\n",
       "        }#T_3bc55_row8_col1{\n",
       "            background-color:  #80a3fa;\n",
       "            color:  #000000;\n",
       "        }#T_3bc55_row8_col3{\n",
       "            background-color:  #779af7;\n",
       "            color:  #000000;\n",
       "        }#T_3bc55_row8_col4{\n",
       "            background-color:  #7295f4;\n",
       "            color:  #000000;\n",
       "        }#T_3bc55_row8_col5{\n",
       "            background-color:  #a6c4fe;\n",
       "            color:  #000000;\n",
       "        }#T_3bc55_row8_col6{\n",
       "            background-color:  #98b9ff;\n",
       "            color:  #000000;\n",
       "        }#T_3bc55_row8_col7{\n",
       "            background-color:  #8caffe;\n",
       "            color:  #000000;\n",
       "        }</style><table id=\"T_3bc55_\" ><thead>    <tr>        <th class=\"blank level0\" ></th>        <th class=\"col_heading level0 col0\" >Pregnancies</th>        <th class=\"col_heading level0 col1\" >Glucose</th>        <th class=\"col_heading level0 col2\" >BloodPressure</th>        <th class=\"col_heading level0 col3\" >SkinThickness</th>        <th class=\"col_heading level0 col4\" >Insulin</th>        <th class=\"col_heading level0 col5\" >BMI</th>        <th class=\"col_heading level0 col6\" >DiabetesPedigreeFunction</th>        <th class=\"col_heading level0 col7\" >Age</th>        <th class=\"col_heading level0 col8\" >Outcome</th>    </tr></thead><tbody>\n",
       "                <tr>\n",
       "                        <th id=\"T_3bc55_level0_row0\" class=\"row_heading level0 row0\" >Pregnancies</th>\n",
       "                        <td id=\"T_3bc55_row0_col0\" class=\"data row0 col0\" >1.000000</td>\n",
       "                        <td id=\"T_3bc55_row0_col1\" class=\"data row0 col1\" >0.040599</td>\n",
       "                        <td id=\"T_3bc55_row0_col2\" class=\"data row0 col2\" >0.155785</td>\n",
       "                        <td id=\"T_3bc55_row0_col3\" class=\"data row0 col3\" >-0.098937</td>\n",
       "                        <td id=\"T_3bc55_row0_col4\" class=\"data row0 col4\" >-0.072376</td>\n",
       "                        <td id=\"T_3bc55_row0_col5\" class=\"data row0 col5\" >0.079750</td>\n",
       "                        <td id=\"T_3bc55_row0_col6\" class=\"data row0 col6\" >-0.024125</td>\n",
       "                        <td id=\"T_3bc55_row0_col7\" class=\"data row0 col7\" >0.402658</td>\n",
       "                        <td id=\"T_3bc55_row0_col8\" class=\"data row0 col8\" >0.193306</td>\n",
       "            </tr>\n",
       "            <tr>\n",
       "                        <th id=\"T_3bc55_level0_row1\" class=\"row_heading level0 row1\" >Glucose</th>\n",
       "                        <td id=\"T_3bc55_row1_col0\" class=\"data row1 col0\" >0.040599</td>\n",
       "                        <td id=\"T_3bc55_row1_col1\" class=\"data row1 col1\" >1.000000</td>\n",
       "                        <td id=\"T_3bc55_row1_col2\" class=\"data row1 col2\" >0.047252</td>\n",
       "                        <td id=\"T_3bc55_row1_col3\" class=\"data row1 col3\" >0.088426</td>\n",
       "                        <td id=\"T_3bc55_row1_col4\" class=\"data row1 col4\" >-0.021762</td>\n",
       "                        <td id=\"T_3bc55_row1_col5\" class=\"data row1 col5\" >0.058295</td>\n",
       "                        <td id=\"T_3bc55_row1_col6\" class=\"data row1 col6\" >-0.133734</td>\n",
       "                        <td id=\"T_3bc55_row1_col7\" class=\"data row1 col7\" >0.197025</td>\n",
       "                        <td id=\"T_3bc55_row1_col8\" class=\"data row1 col8\" >0.105518</td>\n",
       "            </tr>\n",
       "            <tr>\n",
       "                        <th id=\"T_3bc55_level0_row2\" class=\"row_heading level0 row2\" >BloodPressure</th>\n",
       "                        <td id=\"T_3bc55_row2_col0\" class=\"data row2 col0\" >0.155785</td>\n",
       "                        <td id=\"T_3bc55_row2_col1\" class=\"data row2 col1\" >0.047252</td>\n",
       "                        <td id=\"T_3bc55_row2_col2\" class=\"data row2 col2\" >1.000000</td>\n",
       "                        <td id=\"T_3bc55_row2_col3\" class=\"data row2 col3\" >0.211791</td>\n",
       "                        <td id=\"T_3bc55_row2_col4\" class=\"data row2 col4\" >0.084323</td>\n",
       "                        <td id=\"T_3bc55_row2_col5\" class=\"data row2 col5\" >0.238654</td>\n",
       "                        <td id=\"T_3bc55_row2_col6\" class=\"data row2 col6\" >0.041520</td>\n",
       "                        <td id=\"T_3bc55_row2_col7\" class=\"data row2 col7\" >0.281144</td>\n",
       "                        <td id=\"T_3bc55_row2_col8\" class=\"data row2 col8\" >0.044803</td>\n",
       "            </tr>\n",
       "            <tr>\n",
       "                        <th id=\"T_3bc55_level0_row3\" class=\"row_heading level0 row3\" >SkinThickness</th>\n",
       "                        <td id=\"T_3bc55_row3_col0\" class=\"data row3 col0\" >-0.098937</td>\n",
       "                        <td id=\"T_3bc55_row3_col1\" class=\"data row3 col1\" >0.088426</td>\n",
       "                        <td id=\"T_3bc55_row3_col2\" class=\"data row3 col2\" >0.211791</td>\n",
       "                        <td id=\"T_3bc55_row3_col3\" class=\"data row3 col3\" >1.000000</td>\n",
       "                        <td id=\"T_3bc55_row3_col4\" class=\"data row3 col4\" >0.417427</td>\n",
       "                        <td id=\"T_3bc55_row3_col5\" class=\"data row3 col5\" >0.403505</td>\n",
       "                        <td id=\"T_3bc55_row3_col6\" class=\"data row3 col6\" >0.167657</td>\n",
       "                        <td id=\"T_3bc55_row3_col7\" class=\"data row3 col7\" >-0.127505</td>\n",
       "                        <td id=\"T_3bc55_row3_col8\" class=\"data row3 col8\" >0.086170</td>\n",
       "            </tr>\n",
       "            <tr>\n",
       "                        <th id=\"T_3bc55_level0_row4\" class=\"row_heading level0 row4\" >Insulin</th>\n",
       "                        <td id=\"T_3bc55_row4_col0\" class=\"data row4 col0\" >-0.072376</td>\n",
       "                        <td id=\"T_3bc55_row4_col1\" class=\"data row4 col1\" >-0.021762</td>\n",
       "                        <td id=\"T_3bc55_row4_col2\" class=\"data row4 col2\" >0.084323</td>\n",
       "                        <td id=\"T_3bc55_row4_col3\" class=\"data row4 col3\" >0.417427</td>\n",
       "                        <td id=\"T_3bc55_row4_col4\" class=\"data row4 col4\" >1.000000</td>\n",
       "                        <td id=\"T_3bc55_row4_col5\" class=\"data row4 col5\" >0.181752</td>\n",
       "                        <td id=\"T_3bc55_row4_col6\" class=\"data row4 col6\" >0.208929</td>\n",
       "                        <td id=\"T_3bc55_row4_col7\" class=\"data row4 col7\" >-0.017504</td>\n",
       "                        <td id=\"T_3bc55_row4_col8\" class=\"data row4 col8\" >0.112239</td>\n",
       "            </tr>\n",
       "            <tr>\n",
       "                        <th id=\"T_3bc55_level0_row5\" class=\"row_heading level0 row5\" >BMI</th>\n",
       "                        <td id=\"T_3bc55_row5_col0\" class=\"data row5 col0\" >0.079750</td>\n",
       "                        <td id=\"T_3bc55_row5_col1\" class=\"data row5 col1\" >0.058295</td>\n",
       "                        <td id=\"T_3bc55_row5_col2\" class=\"data row5 col2\" >0.238654</td>\n",
       "                        <td id=\"T_3bc55_row5_col3\" class=\"data row5 col3\" >0.403505</td>\n",
       "                        <td id=\"T_3bc55_row5_col4\" class=\"data row5 col4\" >0.181752</td>\n",
       "                        <td id=\"T_3bc55_row5_col5\" class=\"data row5 col5\" >1.000000</td>\n",
       "                        <td id=\"T_3bc55_row5_col6\" class=\"data row5 col6\" >0.161370</td>\n",
       "                        <td id=\"T_3bc55_row5_col7\" class=\"data row5 col7\" >-0.053359</td>\n",
       "                        <td id=\"T_3bc55_row5_col8\" class=\"data row5 col8\" >0.284374</td>\n",
       "            </tr>\n",
       "            <tr>\n",
       "                        <th id=\"T_3bc55_level0_row6\" class=\"row_heading level0 row6\" >DiabetesPedigreeFunction</th>\n",
       "                        <td id=\"T_3bc55_row6_col0\" class=\"data row6 col0\" >-0.024125</td>\n",
       "                        <td id=\"T_3bc55_row6_col1\" class=\"data row6 col1\" >-0.133734</td>\n",
       "                        <td id=\"T_3bc55_row6_col2\" class=\"data row6 col2\" >0.041520</td>\n",
       "                        <td id=\"T_3bc55_row6_col3\" class=\"data row6 col3\" >0.167657</td>\n",
       "                        <td id=\"T_3bc55_row6_col4\" class=\"data row6 col4\" >0.208929</td>\n",
       "                        <td id=\"T_3bc55_row6_col5\" class=\"data row6 col5\" >0.161370</td>\n",
       "                        <td id=\"T_3bc55_row6_col6\" class=\"data row6 col6\" >1.000000</td>\n",
       "                        <td id=\"T_3bc55_row6_col7\" class=\"data row6 col7\" >0.049148</td>\n",
       "                        <td id=\"T_3bc55_row6_col8\" class=\"data row6 col8\" >0.186958</td>\n",
       "            </tr>\n",
       "            <tr>\n",
       "                        <th id=\"T_3bc55_level0_row7\" class=\"row_heading level0 row7\" >Age</th>\n",
       "                        <td id=\"T_3bc55_row7_col0\" class=\"data row7 col0\" >0.402658</td>\n",
       "                        <td id=\"T_3bc55_row7_col1\" class=\"data row7 col1\" >0.197025</td>\n",
       "                        <td id=\"T_3bc55_row7_col2\" class=\"data row7 col2\" >0.281144</td>\n",
       "                        <td id=\"T_3bc55_row7_col3\" class=\"data row7 col3\" >-0.127505</td>\n",
       "                        <td id=\"T_3bc55_row7_col4\" class=\"data row7 col4\" >-0.017504</td>\n",
       "                        <td id=\"T_3bc55_row7_col5\" class=\"data row7 col5\" >-0.053359</td>\n",
       "                        <td id=\"T_3bc55_row7_col6\" class=\"data row7 col6\" >0.049148</td>\n",
       "                        <td id=\"T_3bc55_row7_col7\" class=\"data row7 col7\" >1.000000</td>\n",
       "                        <td id=\"T_3bc55_row7_col8\" class=\"data row7 col8\" >0.152902</td>\n",
       "            </tr>\n",
       "            <tr>\n",
       "                        <th id=\"T_3bc55_level0_row8\" class=\"row_heading level0 row8\" >Outcome</th>\n",
       "                        <td id=\"T_3bc55_row8_col0\" class=\"data row8 col0\" >0.193306</td>\n",
       "                        <td id=\"T_3bc55_row8_col1\" class=\"data row8 col1\" >0.105518</td>\n",
       "                        <td id=\"T_3bc55_row8_col2\" class=\"data row8 col2\" >0.044803</td>\n",
       "                        <td id=\"T_3bc55_row8_col3\" class=\"data row8 col3\" >0.086170</td>\n",
       "                        <td id=\"T_3bc55_row8_col4\" class=\"data row8 col4\" >0.112239</td>\n",
       "                        <td id=\"T_3bc55_row8_col5\" class=\"data row8 col5\" >0.284374</td>\n",
       "                        <td id=\"T_3bc55_row8_col6\" class=\"data row8 col6\" >0.186958</td>\n",
       "                        <td id=\"T_3bc55_row8_col7\" class=\"data row8 col7\" >0.152902</td>\n",
       "                        <td id=\"T_3bc55_row8_col8\" class=\"data row8 col8\" >1.000000</td>\n",
       "            </tr>\n",
       "    </tbody></table>"
      ],
      "text/plain": [
       "<pandas.io.formats.style.Styler at 0x1b18a193970>"
      ]
     },
     "execution_count": 20,
     "metadata": {},
     "output_type": "execute_result"
    }
   ],
   "source": [
    "import matplotlib.pyplot as plt\n",
    "corr = data.corr()\n",
    "corr.style.background_gradient(cmap='coolwarm')\n"
   ]
  },
  {
   "cell_type": "code",
   "execution_count": 35,
   "metadata": {},
   "outputs": [
    {
     "data": {
      "text/plain": [
       "<AxesSubplot:ylabel='Frequency'>"
      ]
     },
     "execution_count": 35,
     "metadata": {},
     "output_type": "execute_result"
    },
    {
     "data": {
      "image/png": "[encoded data removed]",
      "text/plain": [
       "<Figure size 432x288 with 1 Axes>"
      ]
     },
     "metadata": {
      "needs_background": "light"
     },
     "output_type": "display_data"
    }
   ],
   "source": [
    "pd.value_counts(data['BMI']).plot(kind=\"hist\")"
   ]
  },
  {
   "cell_type": "code",
   "execution_count": 37,
   "metadata": {},
   "outputs": [
    {
     "data": {
      "text/plain": [
       "<AxesSubplot:>"
      ]
     },
     "execution_count": 37,
     "metadata": {},
     "output_type": "execute_result"
    },
    {
     "data": {
      "image/png": "[encoded data removed]",
      "text/plain": [
       "<Figure size 432x288 with 1 Axes>"
      ]
     },
     "metadata": {
      "needs_background": "light"
     },
     "output_type": "display_data"
    }
   ],
   "source": [
    "pd.value_counts(data['Pregnancies']).plot(kind=\"bar\")"
   ]
  },
  {
   "cell_type": "code",
   "execution_count": 39,
   "metadata": {},
   "outputs": [
    {
     "data": {
      "text/plain": [
       "<AxesSubplot:ylabel='Frequency'>"
      ]
     },
     "execution_count": 39,
     "metadata": {},
     "output_type": "execute_result"
    },
    {
     "data": {
      "image/png": "[encoded data removed]",
      "text/plain": [
       "<Figure size 432x288 with 1 Axes>"
      ]
     },
     "metadata": {
      "needs_background": "light"
     },
     "output_type": "display_data"
    }
   ],
   "source": [
    "pd.value_counts(data['DiabetesPedigreeFunction']).plot(kind=\"hist\")"
   ]
  },
  {
   "cell_type": "code",
   "execution_count": 64,
   "metadata": {},
   "outputs": [
    {
     "data": {
      "image/png": "[encoded data removed]",
      "text/plain": [
       "<Figure size 1080x360 with 3 Axes>"
      ]
     },
     "metadata": {
      "needs_background": "light"
     },
     "output_type": "display_data"
    }
   ],
   "source": [
    "\n",
    "fig, (ax1, ax2, ax3) = plt.subplots(1, 3,figsize=(15,5))\n",
    "\n",
    "ax1.scatter(data[\"BMI\"],data[\"Outcome\"])\n",
    "ax1.set_title(\"BMI\")\n",
    "ax2.scatter(data[\"Pregnancies\"], data[\"Outcome\"])\n",
    "ax2.set_title(\"Pregnancies\")\n",
    "ax3.scatter(data[\"DiabetesPedigreeFunction\"], data[\"Outcome\"])\n",
    "ax3.set_title(\"DiabetesPedigreeFunction\")\n",
    "plt.show()"
   ]
  },
  {
   "cell_type": "code",
   "execution_count": null,
   "metadata": {},
   "outputs": [],
   "source": []
  }
 ],
 "metadata": {
  "kernelspec": {
   "display_name": "base",
   "language": "python",
   "name": "python3"
  },
  "language_info": {
   "codemirror_mode": {
    "name": "ipython",
    "version": 3
   },
   "file_extension": ".py",
   "mimetype": "text/x-python",
   "name": "python",
   "nbconvert_exporter": "python",
   "pygments_lexer": "ipython3",
   "version": "3.8.8"
  },
  "orig_nbformat": 4,
  "vscode": {
   "interpreter": {
    "hash": "240a9eba56af4ccccc022e914092f0a08053872f577c5356692d82fa4c2f7f48"
   }
  }
 },
 "nbformat": 4,
 "nbformat_minor": 2
}
